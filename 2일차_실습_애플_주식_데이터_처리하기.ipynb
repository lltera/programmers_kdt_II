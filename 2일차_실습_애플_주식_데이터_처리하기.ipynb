{
  "nbformat": 4,
  "nbformat_minor": 0,
  "metadata": {
    "anaconda-cloud": {},
    "kernelspec": {
      "display_name": "Python [conda root]",
      "language": "python",
      "name": "conda-root-py"
    },
    "language_info": {
      "codemirror_mode": {
        "name": "ipython",
        "version": 3
      },
      "file_extension": ".py",
      "mimetype": "text/x-python",
      "name": "python",
      "nbconvert_exporter": "python",
      "pygments_lexer": "ipython3",
      "version": "3.5.3"
    },
    "colab": {
      "name": "2일차 실습: 애플 주식 데이터 처리하기",
      "provenance": [],
      "collapsed_sections": [],
      "include_colab_link": true
    }
  },
  "cells": [
    {
      "cell_type": "markdown",
      "metadata": {
        "id": "view-in-github",
        "colab_type": "text"
      },
      "source": [
        "<a href=\"https://colab.research.google.com/github/lltera/programmers_kdt_II/blob/main/2%EC%9D%BC%EC%B0%A8_%EC%8B%A4%EC%8A%B5_%EC%95%A0%ED%94%8C_%EC%A3%BC%EC%8B%9D_%EB%8D%B0%EC%9D%B4%ED%84%B0_%EC%B2%98%EB%A6%AC%ED%95%98%EA%B8%B0.ipynb\" target=\"_parent\"><img src=\"https://colab.research.google.com/assets/colab-badge.svg\" alt=\"Open In Colab\"/></a>"
      ]
    },
    {
      "cell_type": "markdown",
      "metadata": {
        "id": "PYwHJBmiz6e5"
      },
      "source": [
        "애플 주식 데이터를 가지고 간단한 데이터 분석을 해보자. 모든 답은 Pyspark을 통해 이뤄져야 한다."
      ]
    },
    {
      "cell_type": "markdown",
      "metadata": {
        "id": "SE0VhL0g1no8"
      },
      "source": [
        "먼저 PySpark과 Py4J를 설치하자"
      ]
    },
    {
      "cell_type": "code",
      "metadata": {
        "id": "YXgIyS_F0Kar",
        "outputId": "924a647e-cdad-43f5-bac1-db0b104d18a2",
        "colab": {
          "base_uri": "https://localhost:8080/"
        }
      },
      "source": [
        "!pip install pyspark==3.0.1 py4j==0.10.9 "
      ],
      "execution_count": 1,
      "outputs": [
        {
          "output_type": "stream",
          "text": [
            "Collecting pyspark==3.0.1\n",
            "  Downloading pyspark-3.0.1.tar.gz (204.2 MB)\n",
            "\u001b[K     |████████████████████████████████| 204.2 MB 29 kB/s \n",
            "\u001b[?25hCollecting py4j==0.10.9\n",
            "  Downloading py4j-0.10.9-py2.py3-none-any.whl (198 kB)\n",
            "\u001b[K     |████████████████████████████████| 198 kB 19.5 MB/s \n",
            "\u001b[?25hBuilding wheels for collected packages: pyspark\n",
            "  Building wheel for pyspark (setup.py) ... \u001b[?25l\u001b[?25hdone\n",
            "  Created wheel for pyspark: filename=pyspark-3.0.1-py2.py3-none-any.whl size=204612242 sha256=25bb146f349902a9fde46bf1ba3b4c830f862abb951540ecf6f4cfe4fe368a62\n",
            "  Stored in directory: /root/.cache/pip/wheels/5e/34/fa/b37b5cef503fc5148b478b2495043ba61b079120b7ff379f9b\n",
            "Successfully built pyspark\n",
            "Installing collected packages: py4j, pyspark\n",
            "Successfully installed py4j-0.10.9 pyspark-3.0.1\n"
          ],
          "name": "stdout"
        }
      ]
    },
    {
      "cell_type": "code",
      "metadata": {
        "id": "zxH-zteyvAPt",
        "outputId": "6cf8f255-6f78-4748-f1d9-0b078858a047",
        "colab": {
          "base_uri": "https://localhost:8080/"
        }
      },
      "source": [
        "!ls -t1 sample_data"
      ],
      "execution_count": 17,
      "outputs": [
        {
          "output_type": "stream",
          "text": [
            "mnist_test.csv\n",
            "mnist_train_small.csv\n",
            "california_housing_test.csv\n",
            "california_housing_train.csv\n",
            "anscombe.json\n",
            "README.md\n"
          ],
          "name": "stdout"
        }
      ]
    },
    {
      "cell_type": "code",
      "metadata": {
        "id": "k_MPCrnmu9Qx",
        "outputId": "f75badac-4c5f-4ff9-a80f-617e33541a19",
        "colab": {
          "base_uri": "https://localhost:8080/"
        }
      },
      "source": [
        "!ls -t1"
      ],
      "execution_count": 16,
      "outputs": [
        {
          "output_type": "stream",
          "text": [
            "sample_data\n"
          ],
          "name": "stdout"
        }
      ]
    },
    {
      "cell_type": "markdown",
      "metadata": {
        "id": "FNwc3F_Az6e6"
      },
      "source": [
        "#### Spark Session 만들기"
      ]
    },
    {
      "cell_type": "code",
      "metadata": {
        "collapsed": true,
        "id": "RveyavjYz6e7"
      },
      "source": [
        "from pyspark.sql import SparkSession\n",
        "\n",
        "spark = SparkSession \\\n",
        "    .builder \\\n",
        "    .appName(\"Python Spark Dataframe basic example\") \\\n",
        "    .getOrCreate()"
      ],
      "execution_count": 2,
      "outputs": []
    },
    {
      "cell_type": "markdown",
      "metadata": {
        "id": "b0DgR89Sz6e8"
      },
      "source": [
        "#### 애플 주식 CSV 파일 로딩하기: https://pyspark-test-sj.s3-us-west-2.amazonaws.com/appl_stock.csv\n",
        "일단 pandas 데이터프레임으로 로딩해서 Spark 데이터프레임으로 변경한다"
      ]
    },
    {
      "cell_type": "code",
      "metadata": {
        "collapsed": true,
        "id": "FeKmU3Piz6e8"
      },
      "source": [
        "import pandas as pd\n",
        "\n",
        "apple_pandas_df = pd.read_csv(\"https://pyspark-test-sj.s3-us-west-2.amazonaws.com/appl_stock.csv\")\n",
        "apple_spark_df = spark.createDataFrame(apple_pandas_df)"
      ],
      "execution_count": 3,
      "outputs": []
    },
    {
      "cell_type": "markdown",
      "metadata": {
        "id": "NA3fbJ4Lz6e9"
      },
      "source": [
        "#### 1> 어떤 컬럼 이름들이 있는가?"
      ]
    },
    {
      "cell_type": "code",
      "metadata": {
        "id": "b341_1Zfz6e9",
        "outputId": "d57b6541-5129-470c-9c0b-ac8ea052d5a9",
        "colab": {
          "base_uri": "https://localhost:8080/"
        }
      },
      "source": [
        "apple_spark_df.columns"
      ],
      "execution_count": 4,
      "outputs": [
        {
          "output_type": "execute_result",
          "data": {
            "text/plain": [
              "['Date', 'Open', 'High', 'Low', 'Close', 'Volume', 'Adj Close']"
            ]
          },
          "metadata": {
            "tags": []
          },
          "execution_count": 4
        }
      ]
    },
    {
      "cell_type": "markdown",
      "metadata": {
        "id": "uXj2LCWuz6e_"
      },
      "source": [
        "#### 2> 스키마를 프린트해보기"
      ]
    },
    {
      "cell_type": "code",
      "metadata": {
        "id": "NQR5dwZjz6e_",
        "outputId": "e7b99a84-632f-4dc6-f287-386169990e07",
        "colab": {
          "base_uri": "https://localhost:8080/"
        }
      },
      "source": [
        "apple_spark_df.printSchema()"
      ],
      "execution_count": 5,
      "outputs": [
        {
          "output_type": "stream",
          "text": [
            "root\n",
            " |-- Date: string (nullable = true)\n",
            " |-- Open: double (nullable = true)\n",
            " |-- High: double (nullable = true)\n",
            " |-- Low: double (nullable = true)\n",
            " |-- Close: double (nullable = true)\n",
            " |-- Volume: long (nullable = true)\n",
            " |-- Adj Close: double (nullable = true)\n",
            "\n"
          ],
          "name": "stdout"
        }
      ]
    },
    {
      "cell_type": "markdown",
      "metadata": {
        "id": "XFljhmp5z6fA"
      },
      "source": [
        "#### 3> 처음 5개의 레코드를 출력해보기"
      ]
    },
    {
      "cell_type": "code",
      "metadata": {
        "id": "OJQZ7PZDz6fA",
        "outputId": "4e926256-8bae-47a9-ee96-0e0ee56295f1",
        "colab": {
          "base_uri": "https://localhost:8080/"
        }
      },
      "source": [
        "apple_spark_df.show(n=5)"
      ],
      "execution_count": 6,
      "outputs": [
        {
          "output_type": "stream",
          "text": [
            "+----------+----------+----------+----------+----------+---------+------------------+\n",
            "|      Date|      Open|      High|       Low|     Close|   Volume|         Adj Close|\n",
            "+----------+----------+----------+----------+----------+---------+------------------+\n",
            "|2010-01-04|213.429998|214.499996|212.380001|214.009998|123432400|         27.727039|\n",
            "|2010-01-05|214.599998|215.589994|213.249994|214.379993|150476200|         27.774976|\n",
            "|2010-01-06|214.379993|    215.23|210.750004|210.969995|138040000|27.333178000000004|\n",
            "|2010-01-07|    211.75|212.000006|209.050005|    210.58|119282800|          27.28265|\n",
            "|2010-01-08|210.299994|212.000006|209.060005|211.980005|111902700|         27.464034|\n",
            "+----------+----------+----------+----------+----------+---------+------------------+\n",
            "only showing top 5 rows\n",
            "\n"
          ],
          "name": "stdout"
        }
      ]
    },
    {
      "cell_type": "markdown",
      "metadata": {
        "id": "-uZPeXHxz6fB"
      },
      "source": [
        "#### 4> describe를 사용하여 데이터프레임의 컬럼별 통계보기"
      ]
    },
    {
      "cell_type": "code",
      "metadata": {
        "id": "8Apv3ZhW2Zhj",
        "outputId": "0336d0e9-1093-4e3e-d129-359f2c23a792",
        "colab": {
          "base_uri": "https://localhost:8080/"
        }
      },
      "source": [
        "apple_spark_df.describe().show()"
      ],
      "execution_count": 7,
      "outputs": [
        {
          "output_type": "stream",
          "text": [
            "+-------+----------+------------------+-----------------+------------------+------------------+--------------------+------------------+\n",
            "|summary|      Date|              Open|             High|               Low|             Close|              Volume|         Adj Close|\n",
            "+-------+----------+------------------+-----------------+------------------+------------------+--------------------+------------------+\n",
            "|  count|      1762|              1762|             1762|              1762|              1762|                1762|              1762|\n",
            "|   mean|      null|313.07631115890996|315.9112880164584|309.82824050794557| 312.9270656379114| 9.422577587968218E7| 75.00174115607273|\n",
            "| stddev|      null|185.29946803981545|186.8981768648577|183.38391664370988|185.14710361709427|6.0205187765927084E7|28.574929721799037|\n",
            "|    min|2010-01-04|              90.0|        90.699997|         89.470001|         90.279999|            11475900|         24.881912|\n",
            "|    max|2016-12-30|        702.409988|       705.070023|        699.569977|        702.100021|           470249500|        127.966091|\n",
            "+-------+----------+------------------+-----------------+------------------+------------------+--------------------+------------------+\n",
            "\n"
          ],
          "name": "stdout"
        }
      ]
    },
    {
      "cell_type": "markdown",
      "metadata": {
        "id": "eR1QL8-Z2auU"
      },
      "source": [
        "#### 5> Close 컬럼의 평균값은 얼마인가?"
      ]
    },
    {
      "cell_type": "code",
      "metadata": {
        "id": "ZCQCMa0xz6fB",
        "outputId": "50d4389d-c5c4-41b4-faee-0c314ae93ebf",
        "colab": {
          "base_uri": "https://localhost:8080/"
        }
      },
      "source": [
        "from pyspark.sql.functions import mean\n",
        "\n",
        "apple_spark_df.select(mean(\"Close\")).show()"
      ],
      "execution_count": 8,
      "outputs": [
        {
          "output_type": "stream",
          "text": [
            "+-----------------+\n",
            "|       avg(Close)|\n",
            "+-----------------+\n",
            "|312.9270656379114|\n",
            "+-----------------+\n",
            "\n"
          ],
          "name": "stdout"
        }
      ]
    },
    {
      "cell_type": "markdown",
      "metadata": {
        "id": "YnE6Cbg_IONn"
      },
      "source": [
        "#### 6> Volume 컬럼의 최대값과 최소값은?"
      ]
    },
    {
      "cell_type": "code",
      "metadata": {
        "id": "I5mvFy0eIVPx",
        "outputId": "446d052e-04cd-4c36-fffa-14af7fa483c5",
        "colab": {
          "base_uri": "https://localhost:8080/"
        }
      },
      "source": [
        "from pyspark.sql.functions import min, max\n",
        "\n",
        "apple_spark_df.select(max(\"Volume\"), min(\"Volume\")).show()"
      ],
      "execution_count": 9,
      "outputs": [
        {
          "output_type": "stream",
          "text": [
            "+-----------+-----------+\n",
            "|max(Volume)|min(Volume)|\n",
            "+-----------+-----------+\n",
            "|  470249500|   11475900|\n",
            "+-----------+-----------+\n",
            "\n"
          ],
          "name": "stdout"
        }
      ]
    },
    {
      "cell_type": "markdown",
      "metadata": {
        "id": "ax1Of8ATz6fD"
      },
      "source": [
        "#### 보너스 질문: HV ratio라는 이름의 새로운 컬럼을 추가한 데이터프레임을 만들기. 이 컬럼의 값은 High/Volume으로 계산된다"
      ]
    },
    {
      "cell_type": "code",
      "metadata": {
        "id": "MkO7rQ3Pz6fD"
      },
      "source": [
        "apple_spark_df_with_hv = apple_spark_df.withColumn(\"hv ratio\", apple_spark_df.High/apple_spark_df.Volume) "
      ],
      "execution_count": 10,
      "outputs": []
    },
    {
      "cell_type": "code",
      "metadata": {
        "id": "Ce_bSkvOHEDC",
        "outputId": "1f54a40b-b18d-428d-efc2-4d57bacee8e4",
        "colab": {
          "base_uri": "https://localhost:8080/"
        }
      },
      "source": [
        "apple_spark_df_with_hv.show(5)"
      ],
      "execution_count": 11,
      "outputs": [
        {
          "output_type": "stream",
          "text": [
            "+----------+----------+----------+----------+----------+---------+------------------+--------------------+\n",
            "|      Date|      Open|      High|       Low|     Close|   Volume|         Adj Close|            hv ratio|\n",
            "+----------+----------+----------+----------+----------+---------+------------------+--------------------+\n",
            "|2010-01-04|213.429998|214.499996|212.380001|214.009998|123432400|         27.727039|1.737793286041590...|\n",
            "|2010-01-05|214.599998|215.589994|213.249994|214.379993|150476200|         27.774976|1.432718223878593...|\n",
            "|2010-01-06|214.379993|    215.23|210.750004|210.969995|138040000|27.333178000000004|1.559185743262822...|\n",
            "|2010-01-07|    211.75|212.000006|209.050005|    210.58|119282800|          27.28265|1.777288980473295...|\n",
            "|2010-01-08|210.299994|212.000006|209.060005|211.980005|111902700|         27.464034|1.894503045949740...|\n",
            "+----------+----------+----------+----------+----------+---------+------------------+--------------------+\n",
            "only showing top 5 rows\n",
            "\n"
          ],
          "name": "stdout"
        }
      ]
    },
    {
      "cell_type": "markdown",
      "metadata": {
        "id": "BIROQ8klz6fD"
      },
      "source": [
        "#### 보너스 질문: 월별 Close 컬럼의 평균값은?"
      ]
    },
    {
      "cell_type": "code",
      "metadata": {
        "id": "Q_mr0fO_z6fD"
      },
      "source": [
        "from pyspark.sql.functions import month\n",
        "\n",
        "monthdf = apple_spark_df.withColumn(\"Month\", month(\"Date\"))"
      ],
      "execution_count": 12,
      "outputs": []
    },
    {
      "cell_type": "code",
      "metadata": {
        "id": "g3mfqkYUHQ1e"
      },
      "source": [
        "monthavgdf = monthdf.select([\"Month\", \"Close\"]).groupBy(\"Month\").mean()"
      ],
      "execution_count": 13,
      "outputs": []
    },
    {
      "cell_type": "code",
      "metadata": {
        "id": "eTpOy97YK_NC",
        "outputId": "2d679eb3-6418-4aa0-b775-c933c9ac0244",
        "colab": {
          "base_uri": "https://localhost:8080/"
        }
      },
      "source": [
        "monthavgdf.show()"
      ],
      "execution_count": 14,
      "outputs": [
        {
          "output_type": "stream",
          "text": [
            "+-----+----------+------------------+\n",
            "|Month|avg(Month)|        avg(Close)|\n",
            "+-----+----------+------------------+\n",
            "|   12|      12.0|302.35053626845644|\n",
            "|    1|       1.0| 322.2097142571429|\n",
            "|    6|       6.0|288.12546566000003|\n",
            "|    3|       3.0| 332.9115673137254|\n",
            "|    5|       5.0|  351.621020857143|\n",
            "|    9|       9.0| 301.0763195902777|\n",
            "|    4|       4.0| 340.5104108150685|\n",
            "|    8|       8.0|300.43858096129026|\n",
            "|    7|       7.0| 281.7221621148649|\n",
            "|   10|      10.0|308.30552563157903|\n",
            "|   11|      11.0| 306.2725174895105|\n",
            "|    2|       2.0| 321.3595563037037|\n",
            "+-----+----------+------------------+\n",
            "\n"
          ],
          "name": "stdout"
        }
      ]
    },
    {
      "cell_type": "code",
      "metadata": {
        "id": "-mjKxisALA2t",
        "outputId": "377b30e1-bcf8-4c95-81d8-0edec432142b",
        "colab": {
          "base_uri": "https://localhost:8080/"
        }
      },
      "source": [
        "monthavgdf.select([\"Month\", \"avg(Close)\"]).orderBy(\"Month\").show()"
      ],
      "execution_count": 15,
      "outputs": [
        {
          "output_type": "stream",
          "text": [
            "+-----+------------------+\n",
            "|Month|        avg(Close)|\n",
            "+-----+------------------+\n",
            "|    1| 322.2097142571429|\n",
            "|    2| 321.3595563037037|\n",
            "|    3| 332.9115673137254|\n",
            "|    4| 340.5104108150685|\n",
            "|    5|  351.621020857143|\n",
            "|    6|288.12546566000003|\n",
            "|    7| 281.7221621148649|\n",
            "|    8|300.43858096129026|\n",
            "|    9| 301.0763195902777|\n",
            "|   10|308.30552563157903|\n",
            "|   11| 306.2725174895105|\n",
            "|   12|302.35053626845644|\n",
            "+-----+------------------+\n",
            "\n"
          ],
          "name": "stdout"
        }
      ]
    },
    {
      "cell_type": "code",
      "metadata": {
        "id": "5egHUUucLToO"
      },
      "source": [
        "from pyspark.sql import SparkSession\n",
        "\n",
        "spark = SparkSession.builder\\\n",
        "        .master(\"local[*]\")\\\n",
        "        .appName('PySpark_Tutorial')\\\n",
        "        .getOrCreate()"
      ],
      "execution_count": 20,
      "outputs": []
    },
    {
      "cell_type": "code",
      "metadata": {
        "id": "y22r5QMSvZRy",
        "outputId": "521d5533-3118-460f-c59d-684698a0da76",
        "colab": {
          "base_uri": "https://localhost:8080/",
          "height": 219
        }
      },
      "source": [
        "spark"
      ],
      "execution_count": 21,
      "outputs": [
        {
          "output_type": "execute_result",
          "data": {
            "text/html": [
              "\n",
              "            <div>\n",
              "                <p><b>SparkSession - in-memory</b></p>\n",
              "                \n",
              "        <div>\n",
              "            <p><b>SparkContext</b></p>\n",
              "\n",
              "            <p><a href=\"http://9994da18b136:4040\">Spark UI</a></p>\n",
              "\n",
              "            <dl>\n",
              "              <dt>Version</dt>\n",
              "                <dd><code>v3.0.1</code></dd>\n",
              "              <dt>Master</dt>\n",
              "                <dd><code>local[*]</code></dd>\n",
              "              <dt>AppName</dt>\n",
              "                <dd><code>Python Spark Dataframe basic example</code></dd>\n",
              "            </dl>\n",
              "        </div>\n",
              "        \n",
              "            </div>\n",
              "        "
            ],
            "text/plain": [
              "<pyspark.sql.session.SparkSession at 0x7f8321690410>"
            ]
          },
          "metadata": {
            "tags": []
          },
          "execution_count": 21
        }
      ]
    },
    {
      "cell_type": "code",
      "metadata": {
        "id": "Q9rPOXIUvaCi"
      },
      "source": [
        "name_list_json = [ '{\"name\":\"youngjin\"}','{\"name\":\"june\"}','{\"name\":\"jin\"}']"
      ],
      "execution_count": 27,
      "outputs": []
    },
    {
      "cell_type": "code",
      "metadata": {
        "id": "M81yshT5wW_k",
        "outputId": "bba2bc2b-5aa1-4b2b-d855-31f5b84b6a44",
        "colab": {
          "base_uri": "https://localhost:8080/"
        }
      },
      "source": [
        "for n in name_list_json:\n",
        "  print(n)"
      ],
      "execution_count": 28,
      "outputs": [
        {
          "output_type": "stream",
          "text": [
            "{\"name\":\"youngjin\"}\n",
            "{\"name\":\"june\"}\n",
            "{\"name\":\"jin\"}\n"
          ],
          "name": "stdout"
        }
      ]
    },
    {
      "cell_type": "code",
      "metadata": {
        "id": "1AYwU_mcwZ3b",
        "outputId": "9733963c-6696-4fcd-a529-ed2eea3a551f",
        "colab": {
          "base_uri": "https://localhost:8080/"
        }
      },
      "source": [
        "import json\n",
        "for n in name_list_json:\n",
        "  jn = json.loads(n)\n",
        "  print(jn[\"name\"])"
      ],
      "execution_count": 29,
      "outputs": [
        {
          "output_type": "stream",
          "text": [
            "youngjin\n",
            "june\n",
            "jin\n"
          ],
          "name": "stdout"
        }
      ]
    },
    {
      "cell_type": "code",
      "metadata": {
        "id": "SrMUxe-xwjEb"
      },
      "source": [
        "rdd = spark.sparkContext.parallelize(name_list_json)"
      ],
      "execution_count": 30,
      "outputs": []
    },
    {
      "cell_type": "code",
      "metadata": {
        "id": "HJzsgdtNws_0",
        "outputId": "361b805d-6f7d-4262-fc40-422a3d2d6b0e",
        "colab": {
          "base_uri": "https://localhost:8080/"
        }
      },
      "source": [
        "rdd"
      ],
      "execution_count": 31,
      "outputs": [
        {
          "output_type": "execute_result",
          "data": {
            "text/plain": [
              "ParallelCollectionRDD[36] at readRDDFromFile at PythonRDD.scala:262"
            ]
          },
          "metadata": {
            "tags": []
          },
          "execution_count": 31
        }
      ]
    },
    {
      "cell_type": "code",
      "metadata": {
        "id": "jdRP63AGwtrc",
        "outputId": "ae8a0a1e-8fe4-4328-d0d9-3a14c044ef2a",
        "colab": {
          "base_uri": "https://localhost:8080/"
        }
      },
      "source": [
        "rdd.count()"
      ],
      "execution_count": 32,
      "outputs": [
        {
          "output_type": "execute_result",
          "data": {
            "text/plain": [
              "3"
            ]
          },
          "metadata": {
            "tags": []
          },
          "execution_count": 32
        }
      ]
    },
    {
      "cell_type": "code",
      "metadata": {
        "id": "qruOOSTwwzuT"
      },
      "source": [
        "parsed_rdd = rdd.map(lambda el:json.loads(el))"
      ],
      "execution_count": 33,
      "outputs": []
    },
    {
      "cell_type": "code",
      "metadata": {
        "id": "CNCIhnqQxD2B",
        "outputId": "410ce489-e4fb-444e-ec0e-f501f9cb3192",
        "colab": {
          "base_uri": "https://localhost:8080/"
        }
      },
      "source": [
        "parsed_rdd"
      ],
      "execution_count": 34,
      "outputs": [
        {
          "output_type": "execute_result",
          "data": {
            "text/plain": [
              "PythonRDD[38] at RDD at PythonRDD.scala:53"
            ]
          },
          "metadata": {
            "tags": []
          },
          "execution_count": 34
        }
      ]
    },
    {
      "cell_type": "code",
      "metadata": {
        "id": "8-SuCzYfxGxk",
        "outputId": "508c5f5e-7033-409c-f1c8-1b964cf7aace",
        "colab": {
          "base_uri": "https://localhost:8080/"
        }
      },
      "source": [
        "parsed_rdd.collect()"
      ],
      "execution_count": 35,
      "outputs": [
        {
          "output_type": "execute_result",
          "data": {
            "text/plain": [
              "[{'name': 'youngjin'}, {'name': 'june'}, {'name': 'jin'}]"
            ]
          },
          "metadata": {
            "tags": []
          },
          "execution_count": 35
        }
      ]
    },
    {
      "cell_type": "code",
      "metadata": {
        "id": "4UeUItynxRrF"
      },
      "source": [
        "parsed_name_rdd = rdd.map(lambda el:json.loads(el)[\"name\"])"
      ],
      "execution_count": 37,
      "outputs": []
    },
    {
      "cell_type": "code",
      "metadata": {
        "id": "QO2OFsdHxZTm",
        "outputId": "5737fcf2-e669-42e2-a20e-79caf1201587",
        "colab": {
          "base_uri": "https://localhost:8080/"
        }
      },
      "source": [
        "parsed_name_rdd.collect()"
      ],
      "execution_count": 38,
      "outputs": [
        {
          "output_type": "execute_result",
          "data": {
            "text/plain": [
              "['youngjin', 'june', 'jin']"
            ]
          },
          "metadata": {
            "tags": []
          },
          "execution_count": 38
        }
      ]
    },
    {
      "cell_type": "code",
      "metadata": {
        "id": "57AjAwiVxess"
      },
      "source": [
        "from pyspark.sql.types import StringType"
      ],
      "execution_count": 40,
      "outputs": []
    },
    {
      "cell_type": "code",
      "metadata": {
        "id": "td8i3iGTxwu-"
      },
      "source": [
        "df = spark.createDataFrame(name_list_json,StringType())"
      ],
      "execution_count": 41,
      "outputs": []
    },
    {
      "cell_type": "code",
      "metadata": {
        "id": "A22G0vgYx5Ci",
        "outputId": "70d446de-060d-4a49-98ab-8ac3e82ff638",
        "colab": {
          "base_uri": "https://localhost:8080/"
        }
      },
      "source": [
        "df.count()"
      ],
      "execution_count": 42,
      "outputs": [
        {
          "output_type": "execute_result",
          "data": {
            "text/plain": [
              "3"
            ]
          },
          "metadata": {
            "tags": []
          },
          "execution_count": 42
        }
      ]
    },
    {
      "cell_type": "code",
      "metadata": {
        "id": "SKaW39Dpx5x3",
        "outputId": "5e74975b-b62b-4a90-cc4a-4f0be8479fd9",
        "colab": {
          "base_uri": "https://localhost:8080/"
        }
      },
      "source": [
        "df.printSchema()"
      ],
      "execution_count": 43,
      "outputs": [
        {
          "output_type": "stream",
          "text": [
            "root\n",
            " |-- value: string (nullable = true)\n",
            "\n"
          ],
          "name": "stdout"
        }
      ]
    },
    {
      "cell_type": "code",
      "metadata": {
        "id": "O0ZZQRwIx7uV",
        "outputId": "4526c5c8-2a40-4ba1-e570-296fc6d97d7b",
        "colab": {
          "base_uri": "https://localhost:8080/"
        }
      },
      "source": [
        "df.select('*').collect()"
      ],
      "execution_count": 44,
      "outputs": [
        {
          "output_type": "execute_result",
          "data": {
            "text/plain": [
              "[Row(value='{\"name\":\"youngjin\"}'),\n",
              " Row(value='{\"name\":\"june\"}'),\n",
              " Row(value='{\"name\":\"jin\"}')]"
            ]
          },
          "metadata": {
            "tags": []
          },
          "execution_count": 44
        }
      ]
    },
    {
      "cell_type": "code",
      "metadata": {
        "id": "zUtRiIQKx_Wr",
        "outputId": "a723bff3-f202-4225-d57c-3365f82786b8",
        "colab": {
          "base_uri": "https://localhost:8080/"
        }
      },
      "source": [
        "df.select('value').collect()"
      ],
      "execution_count": 45,
      "outputs": [
        {
          "output_type": "execute_result",
          "data": {
            "text/plain": [
              "[Row(value='{\"name\":\"youngjin\"}'),\n",
              " Row(value='{\"name\":\"june\"}'),\n",
              " Row(value='{\"name\":\"jin\"}')]"
            ]
          },
          "metadata": {
            "tags": []
          },
          "execution_count": 45
        }
      ]
    },
    {
      "cell_type": "code",
      "metadata": {
        "id": "kXTlPEPRyDoF"
      },
      "source": [
        "from pyspark.sql import Row"
      ],
      "execution_count": 46,
      "outputs": []
    },
    {
      "cell_type": "code",
      "metadata": {
        "id": "qmcSFR_zyMZz"
      },
      "source": [
        "row = Row(\"name\")\n",
        "df_name = parsed_name_rdd.map(row).toDF()"
      ],
      "execution_count": 47,
      "outputs": []
    },
    {
      "cell_type": "code",
      "metadata": {
        "id": "XXPzu_kiyZoV",
        "outputId": "58c90a15-2ece-46af-d7b7-e2ce02cf8f91",
        "colab": {
          "base_uri": "https://localhost:8080/"
        }
      },
      "source": [
        "df_name.select('name').collect()"
      ],
      "execution_count": 48,
      "outputs": [
        {
          "output_type": "execute_result",
          "data": {
            "text/plain": [
              "[Row(name='youngjin'), Row(name='june'), Row(name='jin')]"
            ]
          },
          "metadata": {
            "tags": []
          },
          "execution_count": 48
        }
      ]
    },
    {
      "cell_type": "code",
      "metadata": {
        "id": "vh3HK-goydRt",
        "outputId": "f9e5f5cb-a584-475e-c8b8-5e6c57c1d342",
        "colab": {
          "base_uri": "https://localhost:8080/"
        }
      },
      "source": [
        "df_name.printSchema()"
      ],
      "execution_count": 49,
      "outputs": [
        {
          "output_type": "stream",
          "text": [
            "root\n",
            " |-- name: string (nullable = true)\n",
            "\n"
          ],
          "name": "stdout"
        }
      ]
    },
    {
      "cell_type": "code",
      "metadata": {
        "id": "tx1rUqLUypaG"
      },
      "source": [
        ""
      ],
      "execution_count": null,
      "outputs": []
    }
  ]
}